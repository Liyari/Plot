{
 "cells": [
  {
   "cell_type": "markdown",
   "id": "7be059af-1529-447b-b93a-d2f186b41af1",
   "metadata": {},
   "source": [
    "$\\textbf{Plots}$\n",
    "-\n",
    "<b>Author:</b>\n",
    "\n",
    "Soroño, Alliah Mari O.\n",
    "<hr>"
   ]
  },
  {
   "cell_type": "markdown",
   "id": "00ee757f",
   "metadata": {},
   "source": [
    "$\\textbf{General Instructions}$\n",
    "\n",
    "a. For Bar Graph:\n",
    "\n",
    "Create a horizontal stacked bar chart\n",
    "Transform 1 into “Yes” and 0 into “No”\n",
    "Follow the plot specification for bar plot\n",
    "\n",
    "b. For Sankey Diagram:\n",
    "\n",
    "Create a Sankey Diagram that connects ('PS', 'OMP', 'CNP', 'NRP', 'NMCCC', 'PEC', 'NCDM', 'RGS') to the LABELS to ('Reg', 'Aca', 'Oth')\n",
    "Follow the Path Specifications\n",
    "\n",
    "\n",
    "C. Network Graph\n",
    "\n",
    "Create the network graph\n",
    "D,F,I,N,S should created as a pentagram located at the center of the graph showing connection with each other.\n",
    "The others should be outside of the the pentagram, still showing connections to other nodes.\n",
    "The node color should be:\n",
    "\n",
    "Blue: [D,F,I,N,S], Green: ['BIH', 'GEO', 'ISR', 'MNE', 'SRB', 'CHE', 'TUR', 'UKR', 'GBR', 'AUS', 'HKG', 'USA’], Yellow: ['AUT', 'BEL', 'BGR', 'HRV', 'CZE', 'EST', 'FRA', 'DEU', 'GRC', 'HUN', 'IRL', 'ITA', 'LVA', 'LUX', 'NLD', 'PRT', 'ROU', 'SVK', 'SVN', 'ESP']\n",
    "<hr>"
   ]
  },
  {
   "cell_type": "markdown",
   "id": "f21163d1-7e16-403f-b74d-61c83bd13e3d",
   "metadata": {},
   "source": [
    "$\\textbf{Imports}$\n"
   ]
  },
  {
   "cell_type": "code",
   "execution_count": null,
   "id": "fd613706",
   "metadata": {},
   "outputs": [],
   "source": [
    "import pandas as pd\n",
    "import matplotlib.pyplot as plt\n",
    "import networkx as nx\n",
    "import plotly.graph_objects as go\n",
    "from matplotlib.gridspec import GridSpec\n",
    "import numpy as np"
   ]
  },
  {
   "cell_type": "markdown",
   "id": "bc61c7f6",
   "metadata": {},
   "source": [
    "$\\textbf{Bar Graph}$\n"
   ]
  },
  {
   "cell_type": "code",
   "execution_count": 2,
   "id": "319e1278",
   "metadata": {},
   "outputs": [
    {
     "ename": "NameError",
     "evalue": "name 'pd' is not defined",
     "output_type": "error",
     "traceback": [
      "\u001b[1;31m---------------------------------------------------------------------------\u001b[0m",
      "\u001b[1;31mNameError\u001b[0m                                 Traceback (most recent call last)",
      "Cell \u001b[1;32mIn[2], line 1\u001b[0m\n\u001b[1;32m----> 1\u001b[0m bar_df \u001b[38;5;241m=\u001b[39m \u001b[43mpd\u001b[49m\u001b[38;5;241m.\u001b[39mread_csv(\u001b[38;5;124m\"\u001b[39m\u001b[38;5;124mbar_assignment.csv\u001b[39m\u001b[38;5;124m\"\u001b[39m)\n\u001b[0;32m      2\u001b[0m bar_counts \u001b[38;5;241m=\u001b[39m bar_df\u001b[38;5;241m.\u001b[39mgroupby([\u001b[38;5;124m'\u001b[39m\u001b[38;5;124mLABEL\u001b[39m\u001b[38;5;124m'\u001b[39m, \u001b[38;5;124m'\u001b[39m\u001b[38;5;124mCOUNT\u001b[39m\u001b[38;5;124m'\u001b[39m])\u001b[38;5;241m.\u001b[39msize()\u001b[38;5;241m.\u001b[39munstack(fill_value\u001b[38;5;241m=\u001b[39m\u001b[38;5;241m0\u001b[39m)\n\u001b[0;32m      3\u001b[0m bar_counts \u001b[38;5;241m=\u001b[39m bar_counts\u001b[38;5;241m.\u001b[39mrename(columns\u001b[38;5;241m=\u001b[39m{\u001b[38;5;241m0\u001b[39m: \u001b[38;5;124m'\u001b[39m\u001b[38;5;124mNo\u001b[39m\u001b[38;5;124m'\u001b[39m, \u001b[38;5;241m1\u001b[39m: \u001b[38;5;124m'\u001b[39m\u001b[38;5;124mYes\u001b[39m\u001b[38;5;124m'\u001b[39m})\u001b[38;5;241m.\u001b[39msort_index(ascending\u001b[38;5;241m=\u001b[39m\u001b[38;5;28;01mFalse\u001b[39;00m)\n",
      "\u001b[1;31mNameError\u001b[0m: name 'pd' is not defined"
     ]
    }
   ],
   "source": [
    "\n",
    "bar_df = pd.read_csv(\"bar_assignment.csv\")\n",
    "bar_counts = bar_df.groupby(['LABEL', 'COUNT']).size().unstack(fill_value=0)\n",
    "bar_counts = bar_counts.rename(columns={0: 'No', 1: 'Yes'}).sort_index(ascending=False)\n",
    "bar_counts = bar_counts[['No', 'Yes']]\n",
    "\n",
    "fig = plt.figure(figsize=(20, 14))\n",
    "gs = GridSpec(2, 2, figure=fig)\n",
    "ax1 = fig.add_subplot(gs[0, 0])\n",
    "bars = bar_counts.plot(kind='barh', stacked=True, ax=ax1, color=['#FF6347', '#4682B4'])\n",
    "\n",
    "for container in bars.containers:\n",
    "    labels = [int(v) if v > 0 else '' for v in container.datavalues]\n",
    "    bars.bar_label(container, labels=labels, label_type='center')\n",
    "\n",
    "ax1.set_title('Bar Plot', fontweight='bold')\n",
    "ax1.set_xlabel('Count', fontweight='bold')\n",
    "ax1.set_ylabel('Labels', fontweight='bold')\n",
    "ax1.legend(title='Legend', labels=['No', 'Yes'])\n",
    "plt.show()\n"
   ]
  },
  {
   "cell_type": "markdown",
   "id": "ca8e3192",
   "metadata": {},
   "source": [
    "$\\textbf{Sankey Diagram}$\n"
   ]
  },
  {
   "cell_type": "markdown",
   "id": "0289a11a",
   "metadata": {},
   "source": [
    "$\\textbf{Network Graph}$\n"
   ]
  }
 ],
 "metadata": {
  "kernelspec": {
   "display_name": "Python 3",
   "language": "python",
   "name": "python3"
  },
  "language_info": {
   "codemirror_mode": {
    "name": "ipython",
    "version": 3
   },
   "file_extension": ".py",
   "mimetype": "text/x-python",
   "name": "python",
   "nbconvert_exporter": "python",
   "pygments_lexer": "ipython3",
   "version": "3.13.2"
  }
 },
 "nbformat": 4,
 "nbformat_minor": 5
}
